{
  "nbformat": 4,
  "nbformat_minor": 0,
  "metadata": {
    "colab": {
      "provenance": []
    },
    "kernelspec": {
      "name": "python3",
      "display_name": "Python 3"
    },
    "language_info": {
      "name": "python"
    }
  },
  "cells": [
    {
      "cell_type": "markdown",
      "source": [
        "###TAREA"
      ],
      "metadata": {
        "id": "wqixv7aDiqy6"
      }
    },
    {
      "cell_type": "markdown",
      "source": [
        "###Historigrama\n",
        "\n",
        "\n",
        "---\n",
        "\n"
      ],
      "metadata": {
        "id": "clILNLqP0spS"
      }
    },
    {
      "cell_type": "markdown",
      "source": [
        "Un histograma es un gráfico que sirve para mostrar cómo se distribuyen ciertos datos. Y divide los datos en grupos o rangos y usa barras para mostrar cuántos datos caen en cada grupo. Las barras están juntas, y mientras más alta sea una barra, más datos hay en ese rango.\n",
        "\n",
        "CARACTERIZTICAS\n",
        "\n",
        "*   Barras Juntas\n",
        "*   Eje X: Muestra los rangos\n",
        "*   Eje Y: Indica cuantos datos tiene cada rango (frecuencia)\n"
      ],
      "metadata": {
        "id": "jsmgh79-izyy"
      }
    },
    {
      "cell_type": "markdown",
      "source": [
        "###Diagrama de tallo y hoja\n",
        "\n",
        "\n",
        "---\n",
        "\n"
      ],
      "metadata": {
        "id": "l2NaBKf81bcK"
      }
    },
    {
      "cell_type": "markdown",
      "source": [
        "\n",
        "Un diagrama de tallo y hoja es una lista organizada para entender algunos números fácilmente. Se dividen los números en dos partes:\n",
        "\n",
        "El tallo es la parte grande, como las decenas.\n",
        "Las hojas son los detallitos, como las unidades"
      ],
      "metadata": {
        "id": "dhip2Y43o6no"
      }
    },
    {
      "cell_type": "markdown",
      "source": [
        "###Diagrama de caja\n",
        "\n",
        "\n",
        "---\n",
        "\n"
      ],
      "metadata": {
        "id": "8OsXXWVI2tHn"
      }
    },
    {
      "cell_type": "markdown",
      "source": [
        "Un diagrama de caja es un resumen visual de tus datos. Y nos dice el valor en medio 'la mediana' y si hay datos que se salen de lo normal.\n",
        "\n",
        "La caja te muestra dónde está la mayoría de los datos.\n",
        "Los bigotes te dicen hasta dónde llegan los valores más pequeños y más grandes\n",
        "Si se ven puntitos fuera de los bigotes, son los datos raros o fuera de lo común."
      ],
      "metadata": {
        "id": "dxcg3GdvpZrK"
      }
    },
    {
      "cell_type": "markdown",
      "source": [
        "###Diagrama de puntos\n",
        "\n",
        "\n",
        "---\n",
        "\n"
      ],
      "metadata": {
        "id": "Wr3-4B627MD6"
      }
    },
    {
      "cell_type": "markdown",
      "source": [
        "Un diagrama de puntos es un gráfico en el que usan puntos para representar datos. Cada punto equivale a un dato, y se colocan uno encima del otro si se repiten."
      ],
      "metadata": {
        "id": "484MWdljqNWm"
      }
    },
    {
      "cell_type": "markdown",
      "source": [
        "### Y en que contexto se utiliza?\n",
        "\n",
        "\n",
        "---\n",
        "\n"
      ],
      "metadata": {
        "id": "J_SLD0T_2ysp"
      }
    },
    {
      "cell_type": "markdown",
      "source": [
        "1. Histograma\n",
        "\n",
        "Cuando necesitas analizar grandes cantidades de datos y ver cómo se distribuyen.\n",
        "\n",
        "Ejemplo: Analizar edades de una población o calificaciones de un examen.\n",
        "\n",
        "\n",
        "\n",
        "---\n",
        "\n",
        "2. Diagrama de tallo y hoja\n",
        "\n",
        "\n",
        "Para datos pequeños o medianos cuando quieres ver detalles exactos y patrones.\n",
        "\n",
        "Ejemplo: Ver la distribución de temperaturas diarias en una semana.\n",
        "\n",
        "\n",
        "\n",
        "---\n",
        "\n",
        "3. Diagrama de caja\n",
        "\n",
        "\n",
        "Comparar grupos de datos, encontrar valores atípicos y analizar distribuciones.\n",
        "\n",
        "Ejemplo: Comparar tiempos de entrega entre dos servicios de mensajería.\n",
        "\n",
        "\n",
        "\n",
        "---\n",
        "\n",
        "4. Diagrama de puntos\n",
        "\n",
        "Contexto:\n",
        "\n",
        "Para pequeños conjuntos de datos cuando quieres ver frecuencias rápidamente.\n",
        "\n",
        "Ejemplo: Contar cuántas veces salió cada número en un lanzamiento de dados."
      ],
      "metadata": {
        "id": "qNxaUkNmqY3s"
      }
    },
    {
      "cell_type": "markdown",
      "source": [
        "###Medidas de Localizacion\n",
        "\n",
        "---\n",
        "\n"
      ],
      "metadata": {
        "id": "-yfRDz9B7fnM"
      }
    },
    {
      "cell_type": "markdown",
      "source": [
        "nos ayuda a identificar las tendecias centrales, a dividir datos\n",
        "en partes iguales, nos ayudaran a como se esta moviendo, detecta los\n",
        "valores extremos y tomar decisiones basadas en metricas tecnicas"
      ],
      "metadata": {
        "id": "94q_dHkZ9bCE"
      }
    },
    {
      "cell_type": "markdown",
      "source": [
        "###Medidas de Tendecias Central\n",
        "\n",
        "\n",
        "---\n",
        "\n"
      ],
      "metadata": {
        "id": "tNbOlkmq-A3k"
      }
    },
    {
      "cell_type": "markdown",
      "source": [
        "###Medida aritmetica (Promedio)\n",
        "\n",
        "\n",
        "---\n",
        "\n"
      ],
      "metadata": {
        "id": "W60GSoMq-Mmq"
      }
    },
    {
      "cell_type": "markdown",
      "source": [
        "desde el primer valor hasta el ultimo, la medida mas conocida\n",
        "y util de el centro es la medida aritmetica o promedio de un conjunto\n",
        "para identificar la medida muestral se representa como \"-M\" con una raya encima\n",
        "\n",
        "La media muestral esta dada por la formula:\n",
        "(x1+x2+x3...)/n\n"
      ],
      "metadata": {
        "id": "s6u0Ufd0-Xs4"
      }
    }
  ]
}